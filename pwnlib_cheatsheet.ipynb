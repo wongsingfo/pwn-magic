{
 "cells": [
  {
   "cell_type": "markdown",
   "metadata": {},
   "source": [
    "# pwntools setup and data manipulation"
   ]
  },
  {
   "cell_type": "code",
   "execution_count": 1,
   "metadata": {},
   "outputs": [],
   "source": [
    "from pwn import *\n",
    "info('Setting up context')\n",
    "# context.terminal = ['tmux', 'sp', '-h']\n",
    "# context.log_level = 'debug'"
   ]
  },
  {
   "cell_type": "code",
   "execution_count": 13,
   "metadata": {},
   "outputs": [
    {
     "name": "stdout",
     "output_type": "stream",
     "text": [
      "0x41424344\n",
      "b'DCBA'\n",
      "b'DCBA'\n",
      "[0, 1, 0, 0, 0, 0, 0, 1]\n",
      "DCBA\n",
      "1094861636\n",
      "1094861636\n",
      "44434241\n",
      "00000000  44 43 42 41                                         │DCBA│\n",
      "00000004\n",
      "b'DCBA'\n",
      "b'ABCD'\n",
      "b'ABCD'\n",
      "b'base 64'\n",
      "1bc29b36f623ba82aaf6724fd3b16718\n",
      "hello\n",
      "b'flag{hello world}'\n"
     ]
    }
   ],
   "source": [
    "x_int = 0x41424344\n",
    "x_bytes = b'DCBA'\n",
    "x_str = 'DCBA'\n",
    "x_hex = '41424344'\n",
    "# from int to X\n",
    "print(hex(x_int))\n",
    "print(x_int.to_bytes(4, byteorder='little'))\n",
    "print(p32(x_int))\n",
    "print(bits(x_int, endian='big')[:8])  # unbit\n",
    "# from bytes to X\n",
    "print(x_bytes.decode())\n",
    "print(int.from_bytes(x_bytes, byteorder='little'))\n",
    "print(unpack(x_bytes))\n",
    "print(enhex(x_bytes))\n",
    "print(hexdump(x_bytes))\n",
    "# from str to X\n",
    "print(x_str.encode())\n",
    "# from hex to X\n",
    "print(bytes.fromhex(x_hex))\n",
    "print(unhex(x_hex))\n",
    "# hash and encoding\n",
    "print(b64d(b64e(b'base 64')))\n",
    "print(md5sumhex(b'md5'))\n",
    "print(urldecode(urlencode('hello')))\n",
    "# file I/O\n",
    "write('flag', 'flag{hello ')\n",
    "write('flag', b'world}', mode='ab')\n",
    "print(read('flag'))"
   ]
  },
  {
   "cell_type": "markdown",
   "metadata": {},
   "source": [
    "# Let's do the pwn\n",
    "\n",
    "Some hints:\n",
    "\n",
    "- `checksec --file <filename>`"
   ]
  },
  {
   "cell_type": "code",
   "execution_count": 18,
   "metadata": {},
   "outputs": [
    {
     "name": "stdout",
     "output_type": "stream",
     "text": [
      "   0:   b8 00 00 00 00          mov    eax, 0x0\n",
      "6a3158cd8089c36a465889d9cd806a045b6a0359496a3f58cd8075f86a68682f2f2f73682f62696e89e368010101018134247269010131c9516a045901e15189e131d26a0b58cd80\n",
      "b'aaaabaaacaaadaaaeaaa'\n",
      "0 9140 44656 9140\n",
      "   0:   7f 45                   jg     0x47\n",
      "   2:   4c                      dec    esp\n",
      "   3:   46                      inc    esi\n"
     ]
    }
   ],
   "source": [
    "# shellscraft\n",
    "print(disasm(asm('mov eax, 0')))\n",
    "print(enhex(asm(shellcraft.setreuid() + shellcraft.dupsh(4))))\n",
    "# Cyclic: Find offsets in your buffer that cause a crash\n",
    "print(cyclic(20))\n",
    "# ELF\n",
    "with context.local(log_level='debug'): \n",
    "        elf = ELF('/bin/cat')\n",
    "print(elf.address, elf.symbols['write'], elf.got['write'], elf.plt['write'])\n",
    "print(disasm(elf.read(elf.address, 4)))"
   ]
  },
  {
   "cell_type": "code",
   "execution_count": null,
   "metadata": {},
   "outputs": [],
   "source": []
  }
 ],
 "metadata": {
  "kernelspec": {
   "display_name": "Python 3 (ipykernel)",
   "language": "python",
   "name": "python3"
  },
  "language_info": {
   "codemirror_mode": {
    "name": "ipython",
    "version": 3
   },
   "file_extension": ".py",
   "mimetype": "text/x-python",
   "name": "python",
   "nbconvert_exporter": "python",
   "pygments_lexer": "ipython3",
   "version": "3.8.10"
  },
  "orig_nbformat": 4
 },
 "nbformat": 4,
 "nbformat_minor": 2
}
