{
 "cells": [
  {
   "cell_type": "markdown",
   "id": "33f8e099-61d3-42db-9db9-d08b26b9fefe",
   "metadata": {},
   "source": [
    "# Understanding ELF"
   ]
  },
  {
   "cell_type": "markdown",
   "id": "b0a3c54e-6a3b-4781-b25f-abdcdd0cd090",
   "metadata": {},
   "source": [
    "## Example: Creating Really Teensy ELF Executables\n",
    "\n",
    "Reference: \n",
    "\n",
    "- http://www.muppetlabs.com/~breadbox/software/tiny/teensy.html\n",
    "- https://cjting.me/2020/12/10/tiny-x64-helloworld/#step2-optimization "
   ]
  },
  {
   "cell_type": "code",
   "execution_count": 1,
   "id": "17bbf4ea-bd2f-497a-8e5a-ef642824c4b3",
   "metadata": {},
   "outputs": [
    {
     "name": "stdout",
     "output_type": "stream",
     "text": [
      "Writing tiny.c\n"
     ]
    }
   ],
   "source": [
    "%%writefile tiny.c\n",
    "#include <stdio.h>\n",
    "\n",
    "int main() {\n",
    "  printf(\"hello, world\\n\");\n",
    "  return 0;\n",
    "}"
   ]
  },
  {
   "cell_type": "code",
   "execution_count": 2,
   "id": "172bae98-bd3a-497a-8278-00fbceafd469",
   "metadata": {},
   "outputs": [
    {
     "name": "stdout",
     "output_type": "stream",
     "text": [
      "-rwxr-xr-x 1 root root 16696 Jan  3 20:54 a.out\n",
      "-rwxr-xr-x 1 root root 14472 Jan  3 20:54 a.out\n"
     ]
    }
   ],
   "source": [
    "!gcc -Wall tiny.c\n",
    "!ls -l a.out\n",
    "# Strip the executable\n",
    "!gcc -Wall -s tiny.c\n",
    "!ls -l a.out"
   ]
  },
  {
   "cell_type": "code",
   "execution_count": 3,
   "id": "bdda7d61-d81d-43bd-91a3-c702e1d038ca",
   "metadata": {},
   "outputs": [
    {
     "name": "stdout",
     "output_type": "stream",
     "text": [
      "Overwriting tiny.c\n"
     ]
    }
   ],
   "source": [
    "%%writefile tiny.c\n",
    "#include <stdio.h>\n",
    "#include <unistd.h>\n",
    "\n",
    "int nomain()\n",
    "{\n",
    "  printf(\"hello, world\\n\");\n",
    "  _exit(0);\n",
    "}"
   ]
  },
  {
   "cell_type": "markdown",
   "id": "d416d945-1f67-44e8-b84b-f865d04d1ca0",
   "metadata": {},
   "source": [
    "> Use `_exit` to abort the child program when the `exec` fails, because in this situation, the child process may interfere with the parent process' external data (files) by calling its `atexit` handlers, calling its signal handlers, and/or flushing buffers.\n",
    ">\n",
    "> See [here](https://stackoverflow.com/questions/5422831/what-is-the-difference-between-using-exit-exit-in-a-conventional-linux-fo) for details."
   ]
  },
  {
   "cell_type": "code",
   "execution_count": 4,
   "id": "3eb84d5a-1575-424d-b61a-011bae98e21d",
   "metadata": {},
   "outputs": [
    {
     "name": "stdout",
     "output_type": "stream",
     "text": [
      "-rwxr-xr-x 1 root root 14800 Jan  3 20:54 a.out\n"
     ]
    }
   ],
   "source": [
    "!gcc -e nomain -nostartfiles tiny.c\n",
    "!ls -l a.out"
   ]
  },
  {
   "cell_type": "code",
   "execution_count": 5,
   "id": "69fc0823-375a-41a4-b682-21a8aea75b42",
   "metadata": {},
   "outputs": [
    {
     "name": "stdout",
     "output_type": "stream",
     "text": [
      "Overwriting tiny.c\n"
     ]
    }
   ],
   "source": [
    "%%writefile tiny.c\n",
    "char *str = \"hello, world\\n\";\n",
    "\n",
    "void myprint()\n",
    "{\n",
    "  asm(\"movq $1, %%rax \\n\"\n",
    "      \"movq $1, %%rdi \\n\"\n",
    "      \"movq %0, %%rsi \\n\"\n",
    "      \"movq $13, %%rdx \\n\"\n",
    "      \"syscall \\n\"\n",
    "      : // no output\n",
    "      : \"r\"(str)\n",
    "      : \"rax\", \"rdi\", \"rsi\", \"rdx\");\n",
    "}\n",
    "\n",
    "void myexit()\n",
    "{\n",
    "  asm(\"movq $60, %rax \\n\"\n",
    "      \"xor %rdi, %rdi \\n\"\n",
    "      \"syscall \\n\");\n",
    "}\n",
    "\n",
    "int nomain()\n",
    "{\n",
    "  myprint();\n",
    "  myexit();\n",
    "}"
   ]
  },
  {
   "cell_type": "code",
   "execution_count": 6,
   "id": "7b38c58a-d726-430b-ab2b-8108103e15e2",
   "metadata": {},
   "outputs": [
    {
     "name": "stdout",
     "output_type": "stream",
     "text": [
      "-rwxr-xr-x 1 root root 14384 Jan  3 20:54 a.out\n",
      "There are 18 section headers, starting at offset 0x33b0:\n",
      "\n",
      "Section Headers:\n",
      "  [Nr] Name              Type            Address          Off    Size   ES Flg Lk Inf Al\n",
      "  [ 0]                   NULL            0000000000000000 000000 000000 00      0   0  0\n",
      "  [ 1] .interp           PROGBITS        0000000000000318 000318 00001c 00   A  0   0  1\n",
      "  [ 2] .note.gnu.property NOTE            0000000000000338 000338 000020 00   A  0   0  8\n",
      "  [ 3] .note.gnu.build-id NOTE            0000000000000358 000358 000024 00   A  0   0  4\n",
      "  [ 4] .gnu.hash         GNU_HASH        0000000000000380 000380 00001c 00   A  5   0  8\n",
      "  [ 5] .dynsym           DYNSYM          00000000000003a0 0003a0 000018 18   A  6   1  8\n",
      "  [ 6] .dynstr           STRTAB          00000000000003b8 0003b8 000001 00   A  0   0  1\n",
      "  [ 7] .rela.dyn         RELA            00000000000003c0 0003c0 000018 18   A  5   0  8\n",
      "  [ 8] .text             PROGBITS        0000000000001000 001000 000062 00  AX  0   0  1\n",
      "  [ 9] .rodata           PROGBITS        0000000000002000 002000 00000e 00   A  0   0  1\n",
      "  [10] .eh_frame_hdr     PROGBITS        0000000000002010 002010 000024 00   A  0   0  4\n",
      "  [11] .eh_frame         PROGBITS        0000000000002038 002038 000078 00   A  0   0  8\n",
      "  [12] .dynamic          DYNAMIC         0000000000003ef0 002ef0 000110 10  WA  6   0  8\n",
      "  [13] .data             PROGBITS        0000000000004000 003000 000008 00  WA  0   0  8\n",
      "  [14] .comment          PROGBITS        0000000000000000 003008 00002a 01  MS  0   0  1\n",
      "  [15] .symtab           SYMTAB          0000000000000000 003038 000270 18     16  19  8\n",
      "  [16] .strtab           STRTAB          0000000000000000 0032a8 000056 00      0   0  1\n",
      "  [17] .shstrtab         STRTAB          0000000000000000 0032fe 0000ab 00      0   0  1\n",
      "Key to Flags:\n",
      "  W (write), A (alloc), X (execute), M (merge), S (strings), I (info),\n",
      "  L (link order), O (extra OS processing required), G (group), T (TLS),\n",
      "  C (compressed), x (unknown), o (OS specific), E (exclude),\n",
      "  l (large), p (processor specific)\n"
     ]
    }
   ],
   "source": [
    "!gcc -e nomain -nostartfiles tiny.c\n",
    "!ls -l a.out\n",
    "!readelf -S -W a.out"
   ]
  },
  {
   "cell_type": "code",
   "execution_count": 7,
   "id": "804efb0b-9b8c-4b4b-a331-9f3333c33578",
   "metadata": {},
   "outputs": [
    {
     "name": "stdout",
     "output_type": "stream",
     "text": [
      "Writing link.lds\n"
     ]
    }
   ],
   "source": [
    "%%writefile link.lds\n",
    "ENTRY(nomain)\n",
    "\n",
    "SECTIONS\n",
    "{\n",
    "  . = 0x8048000 + SIZEOF_HEADERS;\n",
    "  tiny : { *(.text) *(.data*) *(.rodata*) }\n",
    "  /DISCARD/ : { *(*) }\n",
    "}"
   ]
  },
  {
   "cell_type": "code",
   "execution_count": 8,
   "id": "eaac6e7c-82d5-4618-a38d-27c4b1ce468f",
   "metadata": {},
   "outputs": [
    {
     "name": "stdout",
     "output_type": "stream",
     "text": [
      "/usr/bin/ld: warning: .note.gnu.build-id section discarded, --build-id ignored\n",
      "-rwxr-xr-x 1 root root 920 Jan  3 20:54 a.out\n"
     ]
    }
   ],
   "source": [
    "!gcc -T link.lds -e nomain -nostartfiles tiny.c\n",
    "!ls -l a.out"
   ]
  },
  {
   "cell_type": "code",
   "execution_count": 9,
   "id": "b8d4defd-075e-4a2f-997d-05477c264668",
   "metadata": {},
   "outputs": [
    {
     "name": "stdout",
     "output_type": "stream",
     "text": [
      "Writing tiny.asm\n"
     ]
    }
   ],
   "source": [
    "%%writefile tiny.asm\n",
    "section .data\n",
    "message: db \"hello, world\", 0xa\n",
    "\n",
    "section .text\n",
    "\n",
    "global nomain\n",
    "nomain:\n",
    "  mov rax, 1\n",
    "  mov rdi, 1\n",
    "  mov rsi, message\n",
    "  mov rdx, 13\n",
    "  syscall\n",
    "  mov rax, 60\n",
    "  xor rdi, rdi\n",
    "  syscall"
   ]
  },
  {
   "cell_type": "code",
   "execution_count": 10,
   "id": "7cd5db87-36eb-4f72-89f0-0e02ddb2764d",
   "metadata": {},
   "outputs": [
    {
     "name": "stdout",
     "output_type": "stream",
     "text": [
      "/usr/bin/ld: warning: .note.gnu.build-id section discarded, --build-id ignored\n",
      "-rwxr-xr-x 1 root root 736 Jan  3 20:54 a.out\n"
     ]
    }
   ],
   "source": [
    "!nasm -f elf64 tiny.asm\n",
    "!gcc -T link.lds -e nomain -nostartfiles tiny.o\n",
    "!ls -l a.out"
   ]
  },
  {
   "cell_type": "code",
   "execution_count": 11,
   "id": "31491258-69cf-4517-abca-073cfddce1cf",
   "metadata": {},
   "outputs": [
    {
     "name": "stdout",
     "output_type": "stream",
     "text": [
      "Overwriting tiny.asm\n"
     ]
    }
   ],
   "source": [
    "%%writefile tiny.asm\n",
    "BITS 64\n",
    "  org 0x400000\n",
    "\n",
    "ehdr:           ; Elf64_Ehdr\n",
    "  db 0x7f, \"ELF\", 2, 1, 1, 0 ; e_ident\n",
    "  times 8 db 0\n",
    "  dw  2         ; e_type\n",
    "  dw  0x3e      ; e_machine\n",
    "  dd  1         ; e_version\n",
    "  dq  _start    ; e_entry\n",
    "; $$ evaluates to the beginning of the current section\n",
    "; so you can tell how far into the section you are by using ($-$$).\n",
    "  dq  phdr - $$ ; e_phoff\n",
    "  dq  0         ; e_shoff\n",
    "  dd  0         ; e_flags\n",
    "  dw  ehdrsize  ; e_ehsize\n",
    "  dw  phdrsize  ; e_phentsize\n",
    "  dw  1         ; e_phnum\n",
    "  dw  0         ; e_shentsize\n",
    "  dw  0         ; e_shnum\n",
    "  dw  0         ; e_shstrndx\n",
    "; EQU defines a symbol to a given constant value\n",
    "ehdrsize  equ  $ - ehdr\n",
    "\n",
    "phdr:           ; Elf64_Phdr\n",
    "  dd  1         ; p_type\n",
    "  dd  5         ; p_flags\n",
    "  dq  0         ; p_offset\n",
    "  dq  $$        ; p_vaddr\n",
    "  dq  $$        ; p_paddr\n",
    "  dq  filesize  ; p_filesz\n",
    "  dq  filesize  ; p_memsz\n",
    "  dq  0x1000    ; p_align\n",
    "phdrsize  equ  $ - phdr\n",
    "\n",
    "_start:\n",
    "  mov rax, 1\n",
    "  mov rdi, 1\n",
    "  mov rsi, message\n",
    "  mov rdx, 13\n",
    "  syscall\n",
    "  mov rax, 60\n",
    "  xor rdi, rdi\n",
    "  syscall\n",
    "\n",
    "message: db \"hello, world\", 0xa\n",
    "\n",
    "filesize  equ  $ - $$"
   ]
  },
  {
   "cell_type": "code",
   "execution_count": 12,
   "id": "29a2d0e9-8fe0-497b-aa4b-36df5eeb5a4f",
   "metadata": {},
   "outputs": [
    {
     "name": "stdout",
     "output_type": "stream",
     "text": [
      "-rw-r--r-- 1 root root 170 Jan  3 20:54 tiny\n",
      "hello, world\n"
     ]
    }
   ],
   "source": [
    "!nasm -f bin tiny.asm\n",
    "!ls -l tiny\n",
    "!chmod +x tiny\n",
    "!./tiny"
   ]
  },
  {
   "cell_type": "code",
   "execution_count": 13,
   "id": "1a090aa8-4b18-47dd-9334-c87fbeef0ee3",
   "metadata": {},
   "outputs": [],
   "source": [
    "!rm tiny.c tiny.o tiny.asm a.out tiny link.lds"
   ]
  }
 ],
 "metadata": {
  "kernelspec": {
   "display_name": "Python 3 (ipykernel)",
   "language": "python",
   "name": "python3"
  },
  "language_info": {
   "codemirror_mode": {
    "name": "ipython",
    "version": 3
   },
   "file_extension": ".py",
   "mimetype": "text/x-python",
   "name": "python",
   "nbconvert_exporter": "python",
   "pygments_lexer": "ipython3",
   "version": "3.8.10"
  }
 },
 "nbformat": 4,
 "nbformat_minor": 5
}
