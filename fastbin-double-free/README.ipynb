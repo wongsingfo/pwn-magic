{
 "cells": [
  {
   "cell_type": "markdown",
   "metadata": {},
   "source": [
    "# Fastbin Double Free Attack\n"
   ]
  },
  {
   "cell_type": "markdown",
   "metadata": {},
   "source": [
    "## Example: samsara\n",
    "\n",
    "Source: MetasequoiaCTF 202002020-0221\n",
    "\n"
   ]
  },
  {
   "cell_type": "code",
   "execution_count": 4,
   "metadata": {},
   "outputs": [
    {
     "name": "stdout",
     "output_type": "stream",
     "text": [
      "RELRO:    Full RELRO\n",
      "Stack:    Canary found\n",
      "NX:       NX enabled\n",
      "PIE:      PIE enabled\n"
     ]
    }
   ],
   "source": [
    "bin_filename = 'fastbin-double-free/samsara'\n",
    "from pwn import *\n",
    "from pwnlib import gdb\n",
    "\n",
    "context.terminal = ['tmux', 'new-window']\n",
    "elf = ELF(bin_filename)\n",
    "print(elf.checksec())"
   ]
  },
  {
   "cell_type": "code",
   "execution_count": null,
   "metadata": {},
   "outputs": [],
   "source": []
  },
  {
   "cell_type": "code",
   "execution_count": 6,
   "metadata": {},
   "outputs": [
    {
     "name": "stdout",
     "output_type": "stream",
     "text": [
      "[x] Starting local process '/usr/bin/gdbserver'\n",
      "[+] Starting local process '/usr/bin/gdbserver': pid 173\n",
      "[*] running in new terminal: /usr/bin/gdb -q  \"fastbin-double-free/samsara\" -x /tmp/pwnw4k5tt0q.gdb\n"
     ]
    },
    {
     "data": {
      "text/plain": [
       "<pwnlib.tubes.process.process at 0x7f05283599a0>"
      ]
     },
     "execution_count": 6,
     "metadata": {},
     "output_type": "execute_result"
    }
   ],
   "source": [
    "gdb.debug(bin_filename)"
   ]
  },
  {
   "cell_type": "code",
   "execution_count": 13,
   "metadata": {},
   "outputs": [
    {
     "name": "stdout",
     "output_type": "stream",
     "text": [
      "[x] Starting local process 'fastbin-double-free/samsara'\n",
      "[+] Starting local process 'fastbin-double-free/samsara': pid 199\n"
     ]
    },
    {
     "data": {
      "text/plain": [
       "b'After defeating the Demon Dragon, you turned yourself into the Demon Dragon...\\n'"
      ]
     },
     "execution_count": 13,
     "metadata": {},
     "output_type": "execute_result"
    }
   ],
   "source": [
    "io = process(bin_filename)\n",
    "io.recvline()\n"
   ]
  }
 ],
 "metadata": {
  "kernelspec": {
   "display_name": "Python 3 (ipykernel)",
   "language": "python",
   "name": "python3"
  },
  "language_info": {
   "codemirror_mode": {
    "name": "ipython",
    "version": 3
   },
   "file_extension": ".py",
   "mimetype": "text/x-python",
   "name": "python",
   "nbconvert_exporter": "python",
   "pygments_lexer": "ipython3",
   "version": "3.8.10"
  },
  "orig_nbformat": 4
 },
 "nbformat": 4,
 "nbformat_minor": 2
}
